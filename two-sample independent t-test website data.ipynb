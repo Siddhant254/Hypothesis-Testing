{
 "cells": [
  {
   "cell_type": "code",
   "execution_count": 1,
   "id": "805832cc",
   "metadata": {},
   "outputs": [],
   "source": [
    "import numpy as np"
   ]
  },
  {
   "cell_type": "code",
   "execution_count": 2,
   "id": "c4fe01a3",
   "metadata": {},
   "outputs": [],
   "source": [
    "# data - minutes spent on a website using desktop and mobile\n",
    "\n",
    "desktop_users = [12,15,18,16,20,17,14,22,19,21,23,18,25,17,16,24,20,19,22,18,15,14,23,16,12,21,19,17,20,14]\n",
    "mobile_users = [10,12,14,13,16,15,11,17,14,16,18,14,20,15,14,19,16,15,17,14,12,11,18,15,10,16,15,13,16,11]"
   ]
  },
  {
   "cell_type": "code",
   "execution_count": 3,
   "id": "6ced9187",
   "metadata": {},
   "outputs": [
    {
     "name": "stdout",
     "output_type": "stream",
     "text": [
      "Shapiro wilk test for desktop users : ShapiroResult(statistic=0.9783118963241577, pvalue=0.7791106104850769)\n",
      "Shapiro wilk test for mobile users : ShapiroResult(statistic=0.9714352488517761, pvalue=0.5791513919830322)\n"
     ]
    }
   ],
   "source": [
    "#Performing shapiro wik test to check for normality\n",
    "from scipy.stats import shapiro\n",
    "\n",
    "shapiro_desktop = shapiro(desktop_users)\n",
    "shapiro_mobile = shapiro(mobile_users)\n",
    "\n",
    "print(\"Shapiro wilk test for desktop users :\",shapiro_desktop)\n",
    "print(\"Shapiro wilk test for mobile users :\",shapiro_mobile)"
   ]
  },
  {
   "cell_type": "code",
   "execution_count": 5,
   "id": "ddf92418",
   "metadata": {},
   "outputs": [],
   "source": [
    "# Both data have are normally distributed  as p-value for shapiro test > significance level(0.05)"
   ]
  },
  {
   "cell_type": "code",
   "execution_count": 6,
   "id": "11aa650a",
   "metadata": {},
   "outputs": [
    {
     "name": "stdout",
     "output_type": "stream",
     "text": [
      "LeveneResult(statistic=2.94395488191752, pvalue=0.09153720526741761)\n"
     ]
    }
   ],
   "source": [
    "# checking for equal variances using levene test\n",
    "from scipy.stats import levene\n",
    "\n",
    "levene_test = levene(desktop_users,mobile_users)\n",
    "print(levene_test)"
   ]
  },
  {
   "cell_type": "code",
   "execution_count": 7,
   "id": "d9e02e47",
   "metadata": {},
   "outputs": [],
   "source": [
    "# Both data have equal variances as p-value for levene test > significance level(0.05)"
   ]
  },
  {
   "cell_type": "code",
   "execution_count": 8,
   "id": "6939ba11",
   "metadata": {},
   "outputs": [],
   "source": [
    "# HYPOTHESIS\n",
    "\n",
    "# H0 --> Difference of mean time spent on website using desktop and mobile is zero\n",
    "# H0 --> Difference of mean time spent on website using desktop and mobile is  not zero"
   ]
  },
  {
   "cell_type": "code",
   "execution_count": 11,
   "id": "3f1ad3fb",
   "metadata": {},
   "outputs": [
    {
     "name": "stdout",
     "output_type": "stream",
     "text": [
      "t_cal : 4.625335930681123\n",
      "p_value : 2.1422811334975257e-05\n",
      "Reject Null hypothesis\n"
     ]
    }
   ],
   "source": [
    "# Performing 2-sample independent ttest\n",
    "\n",
    "from scipy.stats import ttest_ind\n",
    "\n",
    "t_cal,p_val = ttest_ind(desktop_users,mobile_users)\n",
    "print(\"t_cal :\",t_cal)\n",
    "print(\"p_value :\",p_val)\n",
    "\n",
    "\n",
    "if p_val < 0.05:\n",
    "    print(\"Reject Null hypothesis\")\n",
    "    \n",
    "else:\n",
    "    print(\"Failed to reject null hypothesis\")"
   ]
  },
  {
   "cell_type": "code",
   "execution_count": null,
   "id": "5f126a6b",
   "metadata": {},
   "outputs": [],
   "source": []
  }
 ],
 "metadata": {
  "kernelspec": {
   "display_name": "Python 3 (ipykernel)",
   "language": "python",
   "name": "python3"
  },
  "language_info": {
   "codemirror_mode": {
    "name": "ipython",
    "version": 3
   },
   "file_extension": ".py",
   "mimetype": "text/x-python",
   "name": "python",
   "nbconvert_exporter": "python",
   "pygments_lexer": "ipython3",
   "version": "3.9.12"
  }
 },
 "nbformat": 4,
 "nbformat_minor": 5
}
