{
 "cells": [
  {
   "cell_type": "markdown",
   "id": "e00eaed2",
   "metadata": {},
   "source": [
    "## T-Test to verify whether avg. age is 30 or not with 95% Confidence Interval"
   ]
  },
  {
   "cell_type": "code",
   "execution_count": 14,
   "id": "9e1502c6",
   "metadata": {},
   "outputs": [
    {
     "name": "stdout",
     "output_type": "stream",
     "text": [
      "Null Hypothesis : u = 30\n",
      "Alternate Hypothesis : u != 30\n",
      "\n",
      "[20, 25, 30, 31, 54, 65, 67, 21, 23, 45, 32, 43, 32, 23, 56, 30, 30, 30, 30, 30, 30, 30, 30, 30, 30, 30, 30, 30]\n",
      "\n",
      "Sample Mean :  34.17857142857143\n",
      "\n",
      "T-Critical :  1.802213147983849\n",
      "P-Value : 0.08268758534670989\n",
      "\n",
      "We are failing to reject the null hypothesis\n"
     ]
    }
   ],
   "source": [
    "from scipy.stats import ttest_1samp\n",
    "import numpy as np\n",
    "\n",
    "#Our Hypothesis\n",
    "print(\"Null Hypothesis : u = 30\")\n",
    "print(\"Alternate Hypothesis : u != 30\")\n",
    "\n",
    "\n",
    "#Taking random values of age\n",
    "ages = [20,25,30,31,54,65,67,21,23,45,32,43,32,23,56,30,30,30,30,30,30,30,30,30,30,30,30,30]\n",
    "print()\n",
    "print(age)\n",
    "print()\n",
    "\n",
    "#Mean of ages - sample mean\n",
    "ages_mean = np.mean(ages)\n",
    "print(\"Sample Mean : \",ages_mean)\n",
    "print()\n",
    "\n",
    "#Calculating t and p-value \n",
    "t_calc,pval = ttest_1samp(ages,30)    # Two-tail test\n",
    "print(\"T-Critical : \",t_calc)             \n",
    "print(\"P-Value :\",pval)\n",
    "\n",
    "print()\n",
    "\n",
    "#Comparing P-value(critical point) with p-value(sample) to determine the region\n",
    "if pval < 0.05 :  #For alpha = 5%\n",
    "    print(\"We are rejecting the null hypothesis\")\n",
    "    \n",
    "else:\n",
    "    print(\"We are failing to reject the null hypothesis\")"
   ]
  },
  {
   "cell_type": "markdown",
   "id": "36548db7",
   "metadata": {},
   "source": [
    "## T-Test to verify whether avg. age is greater than 30 with 95% Confidence Interval"
   ]
  },
  {
   "cell_type": "code",
   "execution_count": 15,
   "id": "f66e1841",
   "metadata": {},
   "outputs": [
    {
     "name": "stdout",
     "output_type": "stream",
     "text": [
      "Null Hypothesis : u <= 30\n",
      "Alternate Hypothesis : u > 30\n",
      "\n",
      "[20, 25, 30, 31, 54, 65, 67, 21, 23, 45, 32, 43, 32, 23, 56, 30, 30, 30, 30, 30, 30, 30, 30, 30, 30, 30, 30, 30]\n",
      "\n",
      "Sample Mean :  34.17857142857143\n",
      "\n",
      "T-Calculated :  1.802213147983849\n",
      "P-Value : 0.041343792673354945\n",
      "\n",
      "We are rejecting the null hypothesis\n"
     ]
    }
   ],
   "source": [
    "from scipy.stats import ttest_1samp\n",
    "import numpy as np\n",
    "\n",
    "#Our Hypothesis\n",
    "print(\"Null Hypothesis : u <= 30\")\n",
    "print(\"Alternate Hypothesis : u > 30\")\n",
    "\n",
    "\n",
    "#Taking random values of age\n",
    "ages = [20,25,30,31,54,65,67,21,23,45,32,43,32,23,56,30,30,30,30,30,30,30,30,30,30,30,30,30]\n",
    "print()\n",
    "print(age)\n",
    "print()\n",
    "\n",
    "#Mean of ages - sample mean\n",
    "ages_mean = np.mean(ages)\n",
    "print(\"Sample Mean : \",ages_mean)\n",
    "print()\n",
    "\n",
    "#Calculating t and p-value \n",
    "t_calc,pval = ttest_1samp(ages,30 ,alternative = 'greater')    # Right-tail test\n",
    "print(\"T-Calculated : \",t_calc)        \n",
    "print(\"P-Value :\",pval)\n",
    "\n",
    "print()\n",
    "\n",
    "#Comparing P-value(critical point) with p-value(sample) to determine the region\n",
    "if pval < 0.05 :  #For alpha = 5%\n",
    "    print(\"We are rejecting the null hypothesis\")\n",
    "    \n",
    "else:\n",
    "    print(\"We are failing to reject the null hypothesis\")"
   ]
  },
  {
   "cell_type": "markdown",
   "id": "baf5dcab",
   "metadata": {},
   "source": [
    "## T-Test to verify whether avg. age is less than 30 with 95% Confidence Interval"
   ]
  },
  {
   "cell_type": "code",
   "execution_count": 23,
   "id": "2e148ac0",
   "metadata": {},
   "outputs": [
    {
     "name": "stdout",
     "output_type": "stream",
     "text": [
      "Null Hypothesis : u >= 30\n",
      "Alternate Hypothesis : u < 30\n",
      "\n",
      "[20, 25, 30, 31, 54, 65, 67, 21, 23, 45, 32, 43, 32, 23, 56, 30, 30, 30, 30, 30, 30, 30, 30, 30, 30, 30, 30, 30]\n",
      "\n",
      "Sample Mean :  34.17857142857143\n",
      "\n",
      "T-Calculated :  1.802213147983849\n",
      "P-Value : 0.958656207326645\n",
      "\n",
      "We are failing to reject the null hypothesis\n"
     ]
    }
   ],
   "source": [
    "from scipy.stats import ttest_1samp\n",
    "import numpy as np\n",
    "\n",
    "#Our Hypothesis\n",
    "print(\"Null Hypothesis : u >= 30\")\n",
    "print(\"Alternate Hypothesis : u < 30\")\n",
    "\n",
    "\n",
    "#Taking random values of age\n",
    "ages = [20,25,30,31,54,65,67,21,23,45,32,43,32,23,56,30,30,30,30,30,30,30,30,30,30,30,30,30]\n",
    "print()\n",
    "print(age)\n",
    "print()\n",
    "\n",
    "#Mean of ages - sample mean\n",
    "ages_mean = np.mean(ages)\n",
    "print(\"Sample Mean : \",ages_mean)\n",
    "print()\n",
    "\n",
    "#Calculating t and p-value \n",
    "t_calc,pval = ttest_1samp(ages,30 ,alternative = 'less')    # Left-tail test\n",
    "print(\"T-Calculated : \",t_calc)        \n",
    "print(\"P-Value :\",pval)\n",
    "\n",
    "print()\n",
    "\n",
    "#Comparing P-value(critical point) with p-value(sample) to determine the region\n",
    "if pval < 0.05 :  #For alpha = 5%\n",
    "    print(\"We are rejecting the null hypothesis\")\n",
    "    \n",
    "else:\n",
    "    print(\"We are failing to reject the null hypothesis\")"
   ]
  },
  {
   "cell_type": "code",
   "execution_count": null,
   "id": "af7c9849",
   "metadata": {},
   "outputs": [],
   "source": []
  },
  {
   "cell_type": "code",
   "execution_count": null,
   "id": "f3d9f8d5",
   "metadata": {},
   "outputs": [],
   "source": []
  }
 ],
 "metadata": {
  "kernelspec": {
   "display_name": "Python 3 (ipykernel)",
   "language": "python",
   "name": "python3"
  },
  "language_info": {
   "codemirror_mode": {
    "name": "ipython",
    "version": 3
   },
   "file_extension": ".py",
   "mimetype": "text/x-python",
   "name": "python",
   "nbconvert_exporter": "python",
   "pygments_lexer": "ipython3",
   "version": "3.9.12"
  }
 },
 "nbformat": 4,
 "nbformat_minor": 5
}
