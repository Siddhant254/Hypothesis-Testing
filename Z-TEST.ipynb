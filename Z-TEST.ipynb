{
 "cells": [
  {
   "cell_type": "markdown",
   "id": "15404dae",
   "metadata": {},
   "source": [
    "## ONE-SAMPLE Z-TEST"
   ]
  },
  {
   "cell_type": "code",
   "execution_count": 1,
   "id": "140bb5e7",
   "metadata": {},
   "outputs": [],
   "source": [
    "import pandas as pd\n",
    "import numpy as np"
   ]
  },
  {
   "cell_type": "code",
   "execution_count": 2,
   "id": "ce609e8b",
   "metadata": {},
   "outputs": [
    {
     "data": {
      "text/html": [
       "<div>\n",
       "<style scoped>\n",
       "    .dataframe tbody tr th:only-of-type {\n",
       "        vertical-align: middle;\n",
       "    }\n",
       "\n",
       "    .dataframe tbody tr th {\n",
       "        vertical-align: top;\n",
       "    }\n",
       "\n",
       "    .dataframe thead th {\n",
       "        text-align: right;\n",
       "    }\n",
       "</style>\n",
       "<table border=\"1\" class=\"dataframe\">\n",
       "  <thead>\n",
       "    <tr style=\"text-align: right;\">\n",
       "      <th></th>\n",
       "      <th>patient</th>\n",
       "      <th>sex</th>\n",
       "      <th>agegrp</th>\n",
       "      <th>bp_before</th>\n",
       "      <th>bp_after</th>\n",
       "    </tr>\n",
       "  </thead>\n",
       "  <tbody>\n",
       "    <tr>\n",
       "      <th>0</th>\n",
       "      <td>1</td>\n",
       "      <td>Male</td>\n",
       "      <td>30-45</td>\n",
       "      <td>143</td>\n",
       "      <td>153</td>\n",
       "    </tr>\n",
       "    <tr>\n",
       "      <th>1</th>\n",
       "      <td>2</td>\n",
       "      <td>Male</td>\n",
       "      <td>30-45</td>\n",
       "      <td>163</td>\n",
       "      <td>170</td>\n",
       "    </tr>\n",
       "    <tr>\n",
       "      <th>2</th>\n",
       "      <td>3</td>\n",
       "      <td>Male</td>\n",
       "      <td>30-45</td>\n",
       "      <td>153</td>\n",
       "      <td>168</td>\n",
       "    </tr>\n",
       "    <tr>\n",
       "      <th>3</th>\n",
       "      <td>4</td>\n",
       "      <td>Male</td>\n",
       "      <td>30-45</td>\n",
       "      <td>153</td>\n",
       "      <td>142</td>\n",
       "    </tr>\n",
       "    <tr>\n",
       "      <th>4</th>\n",
       "      <td>5</td>\n",
       "      <td>Male</td>\n",
       "      <td>30-45</td>\n",
       "      <td>146</td>\n",
       "      <td>141</td>\n",
       "    </tr>\n",
       "  </tbody>\n",
       "</table>\n",
       "</div>"
      ],
      "text/plain": [
       "   patient   sex agegrp  bp_before  bp_after\n",
       "0        1  Male  30-45        143       153\n",
       "1        2  Male  30-45        163       170\n",
       "2        3  Male  30-45        153       168\n",
       "3        4  Male  30-45        153       142\n",
       "4        5  Male  30-45        146       141"
      ]
     },
     "execution_count": 2,
     "metadata": {},
     "output_type": "execute_result"
    }
   ],
   "source": [
    "data = pd.read_csv(\"C:\\\\Users\\\\siddh\\\\OneDrive\\\\Desktop\\\\SQL\\\\SQL DATASET\\\\blood_pressure.csv\")\n",
    "data.head()"
   ]
  },
  {
   "cell_type": "code",
   "execution_count": 3,
   "id": "d6d08926",
   "metadata": {},
   "outputs": [],
   "source": [
    "# HYPOTHESIS\n",
    "\n",
    "# NULL ----->       bp_before = 159\n",
    "# ALTERNATE ----->  bp_before != 159 "
   ]
  },
  {
   "cell_type": "code",
   "execution_count": 5,
   "id": "a6809ce9",
   "metadata": {},
   "outputs": [
    {
     "name": "stdout",
     "output_type": "stream",
     "text": [
      "p-val : 0.014185854025524306\n",
      "We reject null hypothesis\n"
     ]
    }
   ],
   "source": [
    "# HYPOTHESIS\n",
    "\n",
    "# NULL ----->       bp_before = 159\n",
    "# ALTERNATE ----->  bp_before != 159 \n",
    "\n",
    "\n",
    "from scipy import stats\n",
    "from statsmodels.stats import weightstats as stests\n",
    "\n",
    "z_calc,pval = stests.ztest(data['bp_before'],x2=None,value=159) # 2 tail test\n",
    "print(\"p-val :\",pval)\n",
    "\n",
    "if pval<0.05: #alpha = 5%\n",
    "    print(\"We reject null hypothesis\")\n",
    "else:\n",
    "    print(\"We are failing to reject null hypothesis\")"
   ]
  },
  {
   "cell_type": "markdown",
   "id": "c3a0c7f4",
   "metadata": {},
   "source": [
    "## 2-SAMPLE Z TEST\n"
   ]
  },
  {
   "cell_type": "code",
   "execution_count": 6,
   "id": "187282a3",
   "metadata": {},
   "outputs": [
    {
     "name": "stdout",
     "output_type": "stream",
     "text": [
      "p-val : 0.002162306611369422\n",
      "We reject null hypothesis\n"
     ]
    }
   ],
   "source": [
    "# HYPOTHESIS\n",
    "\n",
    "# NULL ------------> Mean of two group is zero\n",
    "#ALT   ------------> Mean of two group is not zero\n",
    "\n",
    "\n",
    "z_calc,pval1 = stests.ztest(x1 = data['bp_before'],x2=data['bp_after'],value=0,alternative='two-sided') # 2 tail test\n",
    "print(\"p-val :\",pval1)\n",
    "\n",
    "if pval1<0.05: #alpha = 5%\n",
    "    print(\"We reject null hypothesis\")\n",
    "else:\n",
    "    print(\"We are failing to reject null hypothesis\")\n",
    "\n"
   ]
  },
  {
   "cell_type": "code",
   "execution_count": 7,
   "id": "516d2112",
   "metadata": {},
   "outputs": [],
   "source": [
    "# TREATMENT WAS EFFECTIVE IN FLUCTUATING BP"
   ]
  },
  {
   "cell_type": "code",
   "execution_count": null,
   "id": "4fb69827",
   "metadata": {},
   "outputs": [],
   "source": []
  }
 ],
 "metadata": {
  "kernelspec": {
   "display_name": "Python 3 (ipykernel)",
   "language": "python",
   "name": "python3"
  },
  "language_info": {
   "codemirror_mode": {
    "name": "ipython",
    "version": 3
   },
   "file_extension": ".py",
   "mimetype": "text/x-python",
   "name": "python",
   "nbconvert_exporter": "python",
   "pygments_lexer": "ipython3",
   "version": "3.9.12"
  }
 },
 "nbformat": 4,
 "nbformat_minor": 5
}
